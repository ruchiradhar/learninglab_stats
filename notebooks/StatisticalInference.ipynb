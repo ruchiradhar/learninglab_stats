{
 "cells": [
  {
   "cell_type": "markdown",
   "id": "fe2fa954-57b3-4975-a240-473ce759dc32",
   "metadata": {},
   "source": [
    "# What is Statistical Inference? \n",
    "\n",
    "In statistical inference, what we typically do is make guesses about a parameter.  There are typically two kinds of things we try to guess at: \n",
    "\n",
    "* How confident are we about the value of a parameter? (Confidence Estimation)\n",
    "* How valid is our hypothesis about the parameter? (Hypothesis Testing)"
   ]
  },
  {
   "cell_type": "markdown",
   "id": "f9a8cc07-499b-4b8a-a584-ff110451f95f",
   "metadata": {},
   "source": [
    "## Statistical Notation\n",
    "\n",
    "For Quantitative Variables: \n",
    "\n",
    "* Population Mean: $\\mu$\n",
    "* Sample Mean: $\\hat{\\mu}$ or $\\bar{x}$\n",
    "* Population Standard Deviation: $\\sigma$\n",
    "* Sample Standard Deviation: $\\hat{\\sigma}$\n",
    "\n",
    "For Categorical Variables: \n",
    "\n",
    "* Population Proportion: $p$\n",
    "* Sample Proportion: $\\hat{p}$\n",
    "\n",
    "For Margin of Error: \n",
    "\n",
    "* 95% Multiplier for Standard Samples: $z*$\n",
    "* 95% Multiplier for Small Samples: $t*$ (derived from t-distribution)\n",
    "\n",
    "For Normal Distribution Curves: \n",
    "\n",
    "* Normal Distribution with given mean and standard deviation: $N(\\mu, \\sigma)$"
   ]
  },
  {
   "cell_type": "markdown",
   "id": "d674551c-595e-4a81-97e0-7c30258a4208",
   "metadata": {
    "jp-MarkdownHeadingCollapsed": true
   },
   "source": [
    "## Python Basics\n",
    "\n",
    "Most statistical inference is done using the following libraries: \n",
    "\n",
    "* Numpy: It is used to work with uniform arrays of values that are used to represent data.\n",
    "* Pandas: It is used to store, manipulate, and analyze data.\n",
    "* Matplotlib: It is used  to visualize data.\n",
    "* Seaborn: It is used as a high level interface to Matplotlib.\n",
    "* Scipy: It is used to work with probability functions from statistical distributions\n",
    "* Statsmodel: It is used to do data exploration, statistical testing, and statistical modelling"
   ]
  },
  {
   "cell_type": "code",
   "execution_count": 10,
   "id": "ef3807b9-6e6f-4022-ba0e-299ce6379854",
   "metadata": {},
   "outputs": [],
   "source": [
    "# import the important libraries\n",
    "import numpy as np\n",
    "import pandas as pd\n",
    "import matplotlib.pyplot as plt\n",
    "import seaborn as sns\n",
    "from scipy import stats\n",
    "import statsmodels as sm"
   ]
  },
  {
   "cell_type": "code",
   "execution_count": 28,
   "id": "96c62ebb-b94d-47ad-8291-c1de2969aa01",
   "metadata": {},
   "outputs": [
    {
     "name": "stdout",
     "output_type": "stream",
     "text": [
      "x is  [-1.0856306   0.99734545  0.2829785  -1.50629471 -0.57860025]\n",
      "log of x is  [1.17859381 0.99469794 0.08007683 2.26892377 0.33477825]\n",
      "y is  [1.  1.6 2.2 2.8 3.4 4. ]\n",
      "z is  [1.  1.5 2.  2.5 3.  3.5]\n",
      "addition of y and z is  [2.  3.1 4.2 5.3 6.4 7.5]\n"
     ]
    }
   ],
   "source": [
    "# numpy\n",
    "np.random.seed(123) # ensure reproducibility in random generator\n",
    "x= np.random.normal(size=5) # generate array of len 5 with random numbers from normal distribution\n",
    "print(\"x is \",x)\n",
    "logx= np.square(x)\n",
    "print(\"log of x is \",logx)\n",
    "y= np.linspace (1, 4, 6) # generate 6 numbers between 1 and 4 of len\n",
    "print(\"y is \",y)\n",
    "z=np.arange(1,4,0.5) # generate numbers between 1 and 4 with a gap of 0.5\n",
    "print(\"z is \",z)\n",
    "addyz= y+z\n",
    "print(\"addition of y and z is \",addyz)\n",
    "#help(np.sort)"
   ]
  },
  {
   "cell_type": "code",
   "execution_count": 29,
   "id": "9d9c0abe-75c0-48bc-9f0d-7f76da250eca",
   "metadata": {},
   "outputs": [
    {
     "name": "stdout",
     "output_type": "stream",
     "text": [
      "   ID  Age Gender  GenderGroup Glasses  GlassesGroup  Height  Wingspan  \\\n",
      "0   1   56      F            1       Y             1    62.0      61.0   \n",
      "1   2   26      F            1       Y             1    62.0      60.0   \n",
      "2   3   33      F            1       Y             1    66.0      64.0   \n",
      "3   4   39      F            1       N             0    64.0      63.0   \n",
      "4   5   27      M            2       N             0    73.0      75.0   \n",
      "\n",
      "   CWDistance Complete  CompleteGroup  Score  \n",
      "0          79        Y              1      7  \n",
      "1          70        Y              1      8  \n",
      "2          85        Y              1      7  \n",
      "3          87        Y              1     10  \n",
      "4          72        N              0      4  \n",
      "Index(['ID', 'Age', 'Gender', 'GenderGroup', 'Glasses', 'GlassesGroup',\n",
      "       'Height', 'Wingspan', 'CWDistance', 'Complete', 'CompleteGroup',\n",
      "       'Score'],\n",
      "      dtype='object')\n",
      "['F' 'M']\n",
      "   ID  Age Gender\n",
      "0   1   56      F\n",
      "1   2   26      F\n",
      "2   3   33      F\n"
     ]
    }
   ],
   "source": [
    "# pandas\n",
    "df=pd.read_csv(\"CartwheelData.csv\")\n",
    "print(df.head())\n",
    "print(df.columns)\n",
    "print(df[\"Gender\"].unique())\n",
    "print(df.iloc[0:3, 0:3])\n",
    "#help(pd.DataFrame.drop)"
   ]
  },
  {
   "cell_type": "code",
   "execution_count": 21,
   "id": "58eaa304-d8f8-452a-834f-bf32f89f60d2",
   "metadata": {},
   "outputs": [
    {
     "data": {
      "text/plain": [
       "Text(0.5, 1.0, 'Histogram of Cartwheel Distances')"
      ]
     },
     "execution_count": 21,
     "metadata": {},
     "output_type": "execute_result"
    },
    {
     "data": {
      "image/png": "[encoded data removed]",
      "text/plain": [
       "<Figure size 640x480 with 1 Axes>"
      ]
     },
     "metadata": {},
     "output_type": "display_data"
    }
   ],
   "source": [
    "# matplotlib\n",
    "plt.hist(df[\"CWDistance\"], bins=10,edgecolor=\"black\")\n",
    "plt.xlabel(\"Distances\")\n",
    "plt.ylabel(\"Frequencies\")\n",
    "plt.title(\"Histogram of Cartwheel Distances\")"
   ]
  },
  {
   "cell_type": "code",
   "execution_count": 22,
   "id": "19a04084-0b1a-4dc0-a683-b1d4d8d1aacf",
   "metadata": {},
   "outputs": [
    {
     "data": {
      "text/plain": [
       "<seaborn.axisgrid.FacetGrid at 0x320366120>"
      ]
     },
     "execution_count": 22,
     "metadata": {},
     "output_type": "execute_result"
    },
    {
     "data": {
      "image/png": "[encoded data removed]",
      "text/plain": [
       "<Figure size 500x500 with 1 Axes>"
      ]
     },
     "metadata": {},
     "output_type": "display_data"
    }
   ],
   "source": [
    "# seaborn\n",
    "x= sns.displot(df[\"CWDistance\"],kde=False, bins=10)\n",
    "x.fig.suptitle(\"Histogram of Cartwheel Distances\")\n",
    "x"
   ]
  },
  {
   "cell_type": "code",
   "execution_count": 23,
   "id": "c7d776e4-be66-40df-b489-d82030c61aac",
   "metadata": {},
   "outputs": [
    {
     "name": "stdout",
     "output_type": "stream",
     "text": [
      "0.11718750000000004\n"
     ]
    }
   ],
   "source": [
    "# scipy\n",
    "# probability mass function of binomial distribution\n",
    "# probability of getting exactly 3 heads in 10 flips of a fair coin\n",
    "print(stats.binom(10, 0.5).pmf(3))"
   ]
  },
  {
   "cell_type": "code",
   "execution_count": 25,
   "id": "a37b2301-c7dc-420a-9dbc-4b6e7b2a4a2a",
   "metadata": {},
   "outputs": [
    {
     "name": "stdout",
     "output_type": "stream",
     "text": [
      "    dept Region    Department  Crime_pers  Crime_prop  Literacy  Donations  \\\n",
      "0      1      E           Ain       28870       15890        37       5098   \n",
      "1      2      N         Aisne       26226        5521        51       8901   \n",
      "2      3      C        Allier       26747        7925        13      10973   \n",
      "3      4      E  Basses-Alpes       12935        7289        46       2733   \n",
      "4      5      E  Hautes-Alpes       17488        8174        69       6962   \n",
      "..   ...    ...           ...         ...         ...       ...        ...   \n",
      "81    86      W        Vienne       15010        4710        25       8922   \n",
      "82    87      C  Haute-Vienne       16256        6402        13      13817   \n",
      "83    88      E        Vosges       18835        9044        62       4040   \n",
      "84    89      C         Yonne       18006        6516        47       4276   \n",
      "85   200    NaN         Corse        2199        4589        49      37015   \n",
      "\n",
      "    Infants  Suicides MainCity  ...  Crime_parents  Infanticide  \\\n",
      "0     33120     35039    2:Med  ...             71           60   \n",
      "1     14572     12831    2:Med  ...              4           82   \n",
      "2     17044    114121    2:Med  ...             46           42   \n",
      "3     23018     14238     1:Sm  ...             70           12   \n",
      "4     23076     16171     1:Sm  ...             22           23   \n",
      "..      ...       ...      ...  ...            ...          ...   \n",
      "81    35224     21851    2:Med  ...             20            1   \n",
      "82    19940     33497    2:Med  ...             68            6   \n",
      "83    14978     33029    2:Med  ...             58           34   \n",
      "84    16616     12789    2:Med  ...             32           22   \n",
      "85    24743     37016    2:Med  ...             81            2   \n",
      "\n",
      "    Donation_clergy  Lottery  Desertion  Instruction  Prostitutes  Distance  \\\n",
      "0                69       41         55           46           13   218.372   \n",
      "1                36       38         82           24          327    65.945   \n",
      "2                76       66         16           85           34   161.927   \n",
      "3                37       80         32           29            2   351.399   \n",
      "4                64       79         35            7            1   320.280   \n",
      "..              ...      ...        ...          ...          ...       ...   \n",
      "81               44       40         38           65           18   170.523   \n",
      "82               78       55         11           84            7   198.874   \n",
      "83                5       14         85           11           43   174.477   \n",
      "84               35       51         66           27          272    81.797   \n",
      "85               84       83          9           25            1   539.213   \n",
      "\n",
      "    Area  Pop1831  \n",
      "0   5762   346.03  \n",
      "1   7369   513.00  \n",
      "2   7340   298.26  \n",
      "3   6925   155.90  \n",
      "4   5549   129.10  \n",
      "..   ...      ...  \n",
      "81  6990   282.73  \n",
      "82  5520   285.13  \n",
      "83  5874   397.99  \n",
      "84  7427   352.49  \n",
      "85  8680   195.41  \n",
      "\n",
      "[86 rows x 23 columns]\n",
      "                            OLS Regression Results                            \n",
      "==============================================================================\n",
      "Dep. Variable:                Lottery   R-squared:                       0.348\n",
      "Model:                            OLS   Adj. R-squared:                  0.333\n",
      "Method:                 Least Squares   F-statistic:                     22.20\n",
      "Date:                Sat, 27 Sep 2025   Prob (F-statistic):           1.90e-08\n",
      "Time:                        22:14:13   Log-Likelihood:                -379.82\n",
      "No. Observations:                  86   AIC:                             765.6\n",
      "Df Residuals:                      83   BIC:                             773.0\n",
      "Df Model:                           2                                         \n",
      "Covariance Type:            nonrobust                                         \n",
      "===================================================================================\n",
      "                      coef    std err          t      P>|t|      [0.025      0.975]\n",
      "-----------------------------------------------------------------------------------\n",
      "Intercept         246.4341     35.233      6.995      0.000     176.358     316.510\n",
      "Literacy           -0.4889      0.128     -3.832      0.000      -0.743      -0.235\n",
      "np.log(Pop1831)   -31.3114      5.977     -5.239      0.000     -43.199     -19.424\n",
      "==============================================================================\n",
      "Omnibus:                        3.713   Durbin-Watson:                   2.019\n",
      "Prob(Omnibus):                  0.156   Jarque-Bera (JB):                3.394\n",
      "Skew:                          -0.487   Prob(JB):                        0.183\n",
      "Kurtosis:                       3.003   Cond. No.                         702.\n",
      "==============================================================================\n",
      "\n",
      "Notes:\n",
      "[1] Standard Errors assume that the covariance matrix of the errors is correctly specified.\n"
     ]
    }
   ],
   "source": [
    "# statsmodels\n",
    "import statsmodels.api as sma\n",
    "import statsmodels.formula.api as smf\n",
    "# load data\n",
    "data = sma.datasets.get_rdataset(\"Guerry\", \"HistData\").data\n",
    "print(data)\n",
    "# fit regression models Ordinary Least Square (OLS)\n",
    "results = smf.ols('Lottery ~ Literacy + np.log(Pop1831)', data=data).fit()\n",
    "print(results.summary())"
   ]
  },
  {
   "cell_type": "markdown",
   "id": "0dbc79c4-fd57-401c-8460-58538c484478",
   "metadata": {},
   "source": [
    "# Confidence Estimation\n",
    "\n",
    "It is a type of statistical inference process that allows us to estimate confidence in the estimated parameter value. The estimated parameter value can be: \n",
    "\n",
    "1. Population Parameter (for a single population)\n",
    "2. Population Difference Parameter (for comparing difference in two populations) "
   ]
  },
  {
   "cell_type": "markdown",
   "id": "8dda95ae-a4c4-4a71-b205-83eee8ee8b35",
   "metadata": {},
   "source": [
    "## Case 1: Population Parameter\n",
    "\n",
    "The process for confidence estimation is: \n",
    "\n",
    "1. From an unbiased sample, compute the point estimate of the parameter as $\\hat{p}$  (the value that the hypothetical sampling distribution will center on).\n",
    "2. From the sample, compute the estimate of variance (the variance of the hypothetical sampling distribution).The square root is the estimated standard error.\n",
    "3. Form a confidence interval (CI) as *Estimate $\\pm$ Margin of Error* where *Estimate* is the unbiased point estimate and *Margin of Error* is a few estimated Standard Errors (where few depends on desired confidence level and sample design).\n",
    "\n",
    "**For Value Parameter**\n",
    "   \n",
    "To calculate parameter confidence interval with estimated parameter $\\hat{\\mu}$ and estimated variance $\\hat{\\sigma}$\n",
    "\n",
    "$$ CI= \\hat{\\mu} \\pm t*\\frac{\\hat{\\sigma}}{\\sqrt{n}}$$\n",
    "\n",
    "**For Proportion Parameter**\n",
    "\n",
    "To calculate proportion confidence interval with estimated proportion $\\hat{p}$ \n",
    "\n",
    "$$ CI= \\hat{p} \\pm z*\\sqrt{\\frac{\\hat{p}(1-\\hat{p})}{n}}$$\n",
    "\n",
    "To calculate with conservative estimate we replace $\\hat{p}$ with 0.5 to get\n",
    "\n",
    "$$ CI= \\hat{p} \\pm z*\\sqrt{\\frac{1}{2\\sqrt(n)}}$$\n",
    "\n",
    "We can estimate the sample size if we know the margin of error we want\n",
    "\n",
    "$$n= \\frac{z*^2 p(1-p)}{(MoE)^2}$$\n",
    "\n",
    "Use the CI to form interpretations: \n",
    "\n",
    "1. Our best estimate of the population parameter value is the center of the confidence interval.\n",
    "2. With x% confidence, the poulation parameter value lies within this confidence interval.\n",
    "3. Our population parameter value will be within this interval for x% of intervals we calculate with this sampling process.\n",
    "\n",
    "Note: It does not say there is a x% probability that parameter value is in the confidence interval. The proability is 1 or 0 (we just don't know). All we say is we have x% confidence in our statistical inference procedure. "
   ]
  },
  {
   "cell_type": "markdown",
   "id": "cd534792-c488-4a97-8773-88f8d22e6585",
   "metadata": {
    "jp-MarkdownHeadingCollapsed": true
   },
   "source": [
    "### Determining z* and t*\n",
    "\n",
    "**$z*$ Distribution**\n",
    "\n",
    "The $z*$ multiplier is applicable for normal distributions and large sample sizes. It is typically used for proportion CIs. We use the Empirical Rule to determine the $z*$ multiplier: \n",
    "\n",
    "1. If we want to build 99.7% CI, use 3.00 Estimated Standard Errors\n",
    "2. If we want to build 99% CI, use 2.57 Estimated Standard Errors\n",
    "3. If we want to build 98% CI, use 2.32 Estimated Standard Errors\n",
    "4. If we want to build 95% CI, use 1.96 Estimated Standard Errors\n",
    "5. If we want to build 90% CI, use 1.64 Estimated Standard Errors\n",
    "6. If we want to build 68% CI, use 1.00 Estimated Standard Errors\n",
    "\n",
    "**$t*$ Distribution**\n",
    "\n",
    "The above no longer remains applicable when our distribution is not normal or we don't have large sample sizes. Moreover, for value parameter CIs, we never have the population standard deviation and we estimate it with $T=\\frac{\\hat{\\mu}- \\mu}{s/\\sqrt{n}}$ . The sampling distribution of T is more varied and follows a long-tailed t-distribution with $n-1$ degrees of freedom where the tails represent the uncertainty from estimating standard deviation.\n",
    "\n",
    "The formula for calculating $t*$ is: \n",
    "\n",
    "1. Choose confidence level $c$. If 95%, then c=0.95\n",
    "2. Calculate $\\alpha=1-c$\n",
    "3. Choose y-sided CI and split $y= \\frac{\\alpha}{n}$\n",
    "4. Calculate degrees of freedom $df= n-1$\n",
    "5. Calculate $t* = t_{1-y,df}$ from software or t-table.\n",
    "\n",
    "The two-sided vs one-sided t-test: \n",
    "\n",
    "What we want is a good estimate of population parameter. For this, we can do either of two things. \n",
    "\n",
    "1. **Two-Sided**: We divide the margin of error on two tails. Eg: If we want 95% CI, we have 5% uncertainty which we divide on two sides as $Estimate-2.5%$ (lower tail) AND $Estimate+2.5%$ (upper tail).\n",
    "2. **One-sided**: We put all of that error and uncertainty in one-direction as $Estimate-5%$ (lower tail) OR $Estimate+5%$ (upper tail). This is typically only done if we want to check whether parameter is greater (lower tail focus) or lower (upper tail focus) than a threshold. \n",
    "\n",
    "The logic for using t-distribution: \n",
    "\n",
    "1. It is suitable for long-tailed distributions with extra uncertainty than normal distributions.\n",
    "2. The $t*$ values are typically larger than $z*$ values to make confidence intervals wider for more uncertainty."
   ]
  },
  {
   "cell_type": "markdown",
   "id": "03e196d8-8b83-4052-8c74-0ff17c66c43e",
   "metadata": {
    "jp-MarkdownHeadingCollapsed": true
   },
   "source": [
    "### Implementation: Value Parameter \n",
    "\n",
    "Here we calculate the value parameter estimate on a single population of interest"
   ]
  },
  {
   "cell_type": "code",
   "execution_count": 1,
   "id": "7597099c-fb1f-49c0-b2a2-5fde85558333",
   "metadata": {},
   "outputs": [
    {
     "name": "stdout",
     "output_type": "stream",
     "text": [
      "   ID  Age Gender  GenderGroup Glasses  GlassesGroup  Height  Wingspan  \\\n",
      "0   1   56      F            1       Y             1    62.0      61.0   \n",
      "1   2   26      F            1       Y             1    62.0      60.0   \n",
      "2   3   33      F            1       Y             1    66.0      64.0   \n",
      "3   4   39      F            1       N             0    64.0      63.0   \n",
      "4   5   27      M            2       N             0    73.0      75.0   \n",
      "\n",
      "   CWDistance Complete  CompleteGroup  Score  \n",
      "0          79        Y              1      7  \n",
      "1          70        Y              1      8  \n",
      "2          85        Y              1      7  \n",
      "3          87        Y              1     10  \n",
      "4          72        N              0      4  \n"
     ]
    }
   ],
   "source": [
    "# Research Question: What is the average cartwheel distance for adults? \n",
    "# Population Parameter of Interest: Mean Cartwheel Distance\n",
    "# Random Sample: Our sample of cartwheel data\n",
    "\n",
    "# loading data\n",
    "import pandas as pd\n",
    "import numpy as np\n",
    "import scipy.stats as st\n",
    "import matplotlib.pyplot as plt\n",
    "import seaborn as sns\n",
    "df=pd.read_csv(\"CartwheelData.csv\")\n",
    "print(df.head())"
   ]
  },
  {
   "cell_type": "code",
   "execution_count": 2,
   "id": "b2465731-f0f6-4b93-971f-3722f434b70d",
   "metadata": {},
   "outputs": [
    {
     "name": "stdout",
     "output_type": "stream",
     "text": [
      "The sample size is:  25\n",
      "count     25.000000\n",
      "mean      82.480000\n",
      "std       15.058552\n",
      "min       63.000000\n",
      "25%       70.000000\n",
      "50%       81.000000\n",
      "75%       92.000000\n",
      "max      115.000000\n",
      "Name: CWDistance, dtype: float64\n"
     ]
    },
    {
     "data": {
      "image/png": "[encoded data removed]",
      "text/plain": [
       "<Figure size 640x480 with 1 Axes>"
      ]
     },
     "metadata": {},
     "output_type": "display_data"
    }
   ],
   "source": [
    "# summarizing data\n",
    "\n",
    "# checking sample size\n",
    "n= len(df)\n",
    "print(\"The sample size is: \", n)\n",
    "\n",
    "# checking numerical summary of CWDistance\n",
    "print(df.describe()[\"CWDistance\"]) # mean higher than median so likely right-skew\n",
    "\n",
    "# checking graphical summary of CWDistance\n",
    "# ensure data distribution normality\n",
    "histogram= sns.histplot(df[\"CWDistance\"], kde=False, bins=10) # we do see right skew"
   ]
  },
  {
   "cell_type": "code",
   "execution_count": 3,
   "id": "47ad56f6-57e8-4c69-a9cc-ba7383e0418f",
   "metadata": {},
   "outputs": [
    {
     "name": "stdout",
     "output_type": "stream",
     "text": [
      "The mean cartwheel distance of our sample is:  82.48\n",
      "The standard deviation of cartwheel distance of our sample is:  14.754307845507359\n",
      "The t* is:  2.063898561628021\n",
      "The margin of error is:  6.090278948031933\n"
     ]
    }
   ],
   "source": [
    "# calculating margin of error\n",
    "\n",
    "# calculating estimated mean\n",
    "mean_cd= np.mean(df[\"CWDistance\"])\n",
    "print(\"The mean cartwheel distance of our sample is: \", mean_cd)\n",
    "\n",
    "# calculating estimated standard deviation\n",
    "std_cd= np.std(df[\"CWDistance\"])\n",
    "print(\"The standard deviation of cartwheel distance of our sample is: \", std_cd)\n",
    "\n",
    "\n",
    "# calculating t*\n",
    "# we want 95% confidence, two sided test, sample size is n\n",
    "confidence=0.95\n",
    "df=n-1\n",
    "tstar= st.t.ppf((1-(1-confidence)/2), df)\n",
    "print(\"The t* is: \", tstar)\n",
    "\n",
    "# calculating margin of error\n",
    "moe= tstar* (std_cd/np.sqrt(n))\n",
    "print(\"The margin of error is: \", moe)"
   ]
  },
  {
   "cell_type": "code",
   "execution_count": 5,
   "id": "6c64a42b-187c-4b31-92f0-0d9c760a0a1b",
   "metadata": {},
   "outputs": [
    {
     "name": "stdout",
     "output_type": "stream",
     "text": [
      "The population mean cartwheel distance lies between 76.38972105196807 and 88.57027894803194\n"
     ]
    }
   ],
   "source": [
    "# calculating CI\n",
    "lowerint= mean_cd-moe\n",
    "upperint=mean_cd+moe\n",
    "print(f\"The population mean cartwheel distance lies between {lowerint} and {upperint}\")"
   ]
  },
  {
   "cell_type": "markdown",
   "id": "8befa720-13ec-4a00-ad9c-4bc2d5cdfd1e",
   "metadata": {
    "jp-MarkdownHeadingCollapsed": true
   },
   "source": [
    "### Implementation: Value Parameter in Paired Data\n",
    "\n",
    "Paired Data refers to the cases where we have: \n",
    "\n",
    "1. Two measurements from same individual (right vs left hand of people, before vs after treatment of a person)\n",
    "2. Two measurements where each belongs to connected individuals (twins, two models of same family)\n",
    "\n",
    "Here we calculate the value parameter difference within a pair."
   ]
  },
  {
   "cell_type": "code",
   "execution_count": 1,
   "id": "3132ab6f-2655-4879-88a7-bc3a53f2e6b1",
   "metadata": {},
   "outputs": [
    {
     "name": "stdout",
     "output_type": "stream",
     "text": [
      "       Twin1  Twin2\n",
      "0  14.000000  10.00\n",
      "1  14.083333  10.25\n",
      "2  14.166667  10.50\n",
      "3  14.250000  10.75\n",
      "4  14.333333  11.00\n",
      "Index(['Twin1', 'Twin2'], dtype='object')\n"
     ]
    }
   ],
   "source": [
    "# Research Question: What is the average difference in education for twins? \n",
    "# Population Parameter of Interest: Mean Difference in Pairs\n",
    "# Random Sample: Own data\n",
    "\n",
    "# create data\n",
    "import numpy as np\n",
    "import pandas as pd\n",
    "import scipy.stats as st\n",
    "import seaborn as sns\n",
    "np.random.seed(123)\n",
    "data= {\n",
    "    \"Twin1\": np.linspace(14,16, 25),\n",
    "    \"Twin2\": np.linspace(10,16, 25)\n",
    "}\n",
    "df= pd.DataFrame(data)\n",
    "print(df.head())\n",
    "print(df.columns)"
   ]
  },
  {
   "cell_type": "code",
   "execution_count": 2,
   "id": "bac92d17-ef1b-4d55-9c93-c4adef4dfb15",
   "metadata": {},
   "outputs": [
    {
     "name": "stdout",
     "output_type": "stream",
     "text": [
      "       Twin1  Twin2  Difference\n",
      "0  14.000000  10.00    4.000000\n",
      "1  14.083333  10.25    3.833333\n",
      "2  14.166667  10.50    3.666667\n",
      "3  14.250000  10.75    3.500000\n",
      "4  14.333333  11.00    3.333333\n"
     ]
    }
   ],
   "source": [
    "# create difference column\n",
    "df[\"Difference\"]= df[\"Twin1\"]- df[\"Twin2\"]\n",
    "print(df.head())"
   ]
  },
  {
   "cell_type": "code",
   "execution_count": 3,
   "id": "3d4613aa-f21e-44e7-82bf-1b8a079a81d8",
   "metadata": {},
   "outputs": [
    {
     "name": "stdout",
     "output_type": "stream",
     "text": [
      "The sample size is:  25\n",
      "count    25.000000\n",
      "mean      2.000000\n",
      "std       1.226633\n",
      "min       0.000000\n",
      "25%       1.000000\n",
      "50%       2.000000\n",
      "75%       3.000000\n",
      "max       4.000000\n",
      "Name: Difference, dtype: float64\n"
     ]
    },
    {
     "data": {
      "image/png": "[encoded data removed]",
      "text/plain": [
       "<Figure size 640x480 with 1 Axes>"
      ]
     },
     "metadata": {},
     "output_type": "display_data"
    }
   ],
   "source": [
    "# summarizing data\n",
    "\n",
    "# checking sample size\n",
    "n= len(df)\n",
    "print(\"The sample size is: \", n)\n",
    "\n",
    "# checking numerical summary\n",
    "print(df.describe()[\"Difference\"]) \n",
    "\n",
    "# checking graphical summary \n",
    "# ensure data distribution normality\n",
    "histogram= sns.histplot(df[\"Difference\"], kde=False, bins=10) "
   ]
  },
  {
   "cell_type": "code",
   "execution_count": 4,
   "id": "fa3122c7-aa1f-439b-8f2c-17ea4c658c55",
   "metadata": {},
   "outputs": [
    {
     "name": "stdout",
     "output_type": "stream",
     "text": [
      "The mean difference of our sample is:  2.0\n",
      "The standard deviation of differences of our sample is:  1.2018504251546631\n",
      "The t* is:  2.063898561628021\n",
      "The margin of error is:  0.49609947275374694\n"
     ]
    }
   ],
   "source": [
    "# calculating margin of error\n",
    "\n",
    "# calculating estimated mean\n",
    "mean_diff= np.mean(df[\"Difference\"])\n",
    "print(\"The mean difference of our sample is: \", mean_diff)\n",
    "\n",
    "# calculating estimated standard deviation\n",
    "std_diff= np.std(df[\"Difference\"])\n",
    "print(\"The standard deviation of differences of our sample is: \", std_diff)\n",
    "\n",
    "\n",
    "# calculating t*\n",
    "# we want 95% confidence, two sided test, sample size is n\n",
    "confidence=0.95\n",
    "df=n-1\n",
    "tstar= st.t.ppf((1-(1-confidence)/2), df)\n",
    "print(\"The t* is: \", tstar)\n",
    "\n",
    "# calculating margin of error\n",
    "moe= tstar* (std_diff/np.sqrt(n))\n",
    "print(\"The margin of error is: \", moe)"
   ]
  },
  {
   "cell_type": "code",
   "execution_count": 5,
   "id": "74bb1d83-1737-4a54-9b1a-56d5a033c9c1",
   "metadata": {},
   "outputs": [
    {
     "name": "stdout",
     "output_type": "stream",
     "text": [
      "The population mean difference lies between 1.5039005272462531 and 2.496099472753747\n"
     ]
    }
   ],
   "source": [
    "# calculating CI\n",
    "lowerint= mean_diff-moe\n",
    "upperint=mean_diff+moe\n",
    "print(f\"The population mean difference lies between {lowerint} and {upperint}\")"
   ]
  },
  {
   "cell_type": "markdown",
   "id": "7a445bbd-e206-4ca3-b88a-937122d62c33",
   "metadata": {},
   "source": [
    "## Case 2: Population Difference Parameter\n",
    "\n",
    "The process for confidence estimation is: \n",
    "\n",
    "1. From two separate unbiased samples of two populations, we compute two point estimates.\n",
    "2. Form a confidence interval as *Difference of Estimates $\\pm$ Margin of Error*\n",
    "\n",
    "To calculate the difference in parameter confidence interval for two proportions with estimated variance $\\hat{\\sigma_1}$ and $\\hat{\\sigma_2}$\n",
    "\n",
    "$$ CI= (\\hat{\\sigma_1}-\\hat{\\sigma_2}) \\pm t*\\sqrt{\\frac{(\\sigma_1)^2}{n_1}+ \\frac{(\\sigma_2)^2}{n_2}}$$\n",
    "\n",
    "To calculate difference in proportion confidence interval for two populations with estimated proportions $\\hat{p_1}$ and $\\hat{p_2}$\n",
    "\n",
    "$$ CI= (\\hat{p_1}-\\hat{p_2}) \\pm z*\\sqrt{\\frac{\\hat{p_1}(1-\\hat{p_1})}{n_1}+ \\frac{\\hat{p_2}(1-\\hat{p_2})}{n_2}}$$\n",
    "\n",
    "Use the CI to form interpretations: \n",
    "\n",
    "1. Our best estimate of the difference between two populations lies is the center of the interval.\n",
    "2. With x% confidence, the populations have a difference value within this confidence interval.\n",
    "3. If zero lies within this interval, there is no difference between the populations.\n",
    "4. If zero does not lie within the interval, there is some difference between the populations. "
   ]
  },
  {
   "cell_type": "code",
   "execution_count": 11,
   "id": "798ef20d-8f57-47d8-a7d6-51be28fc80a8",
   "metadata": {},
   "outputs": [
    {
     "name": "stdout",
     "output_type": "stream",
     "text": [
      "The male population sample size is 13\n",
      "The female population sample size is 12\n"
     ]
    }
   ],
   "source": [
    "# Research Question: What is the average cartwheel distance for adult males vs females? \n",
    "# Population Parameter of Interest: Mean Cartwheel Distance\n",
    "# Random Sample: Our sample of cartwheel data\n",
    "\n",
    "# loading data\n",
    "import pandas as pd\n",
    "import numpy as np\n",
    "import scipy.stats as st\n",
    "import matplotlib.pyplot as plt\n",
    "import seaborn as sns\n",
    "df=pd.read_csv(\"CartwheelData.csv\")\n",
    "\n",
    "# get two datasets for male and female populations\n",
    "df_male= df[df[\"Gender\"]==\"M\"]\n",
    "print(f\"The male population sample size is {len(df_male)}\")\n",
    "df_fem= df[df[\"Gender\"]==\"F\"]\n",
    "print(f\"The female population sample size is {len(df_fem)}\")"
   ]
  },
  {
   "cell_type": "code",
   "execution_count": 21,
   "id": "4e4df0d0-19a9-41f5-aa86-6081521effa3",
   "metadata": {},
   "outputs": [
    {
     "name": "stdout",
     "output_type": "stream",
     "text": [
      "count     13.000000\n",
      "mean      84.538462\n",
      "std       18.187062\n",
      "min       63.000000\n",
      "25%       72.000000\n",
      "50%       81.000000\n",
      "75%      101.000000\n",
      "max      115.000000\n",
      "Name: CWDistance, dtype: float64\n",
      "count    12.000000\n",
      "mean     80.250000\n",
      "std      11.112033\n",
      "min      65.000000\n",
      "25%      69.250000\n",
      "50%      82.000000\n",
      "75%      87.750000\n",
      "max      98.000000\n",
      "Name: CWDistance, dtype: float64\n"
     ]
    },
    {
     "data": {
      "image/png": "[encoded data removed]",
      "text/plain": [
       "<Figure size 640x480 with 1 Axes>"
      ]
     },
     "metadata": {},
     "output_type": "display_data"
    }
   ],
   "source": [
    "# summarize data for two populations\n",
    "# numerical summary\n",
    "print(df_male[\"CWDistance\"].describe())\n",
    "print(df_fem[\"CWDistance\"].describe())\n",
    "# graphical summary\n",
    "sns.boxplot(x=\"Gender\", y=\"CWDistance\", data=df)\n",
    "plt.title(\"Male vs Female Cartwheel Distances\")\n",
    "plt.show()"
   ]
  },
  {
   "cell_type": "code",
   "execution_count": null,
   "id": "5096b77f-6e7a-42f4-a159-06ae4d2ccf99",
   "metadata": {},
   "outputs": [],
   "source": [
    "# comparative boxplot"
   ]
  },
  {
   "cell_type": "markdown",
   "id": "6c64a727-c071-4e84-bed4-da9ff2607a84",
   "metadata": {},
   "source": [
    "##  Process Assumptions\n",
    "\n",
    "The process of CI estimation makes some core assumptions: \n",
    "\n",
    "**Population Parameter**\n",
    "\n",
    "1. Simple Random Sample: Our sample is a simple random sample where every unit has equal probability of selection. This makes the Central Limit Theorem applicable. \n",
    "2. Large Enough Sample Size: Our samples contains atleast 10 of all possible response outcomes. This makes the sampling distribution close to normal and ensures the Empirical Rule can apply.\n",
    "\n",
    "**Population Difference Parameter**\n",
    "\n",
    "1. Independent Random Samples: Both our samples are random and they are independent.\n",
    "2. Large Enough Sample Sizes: Both our samples have atleast 10 of all possible response outcomes."
   ]
  },
  {
   "cell_type": "markdown",
   "id": "dc6e5786-a0b7-4076-8083-3e96aac3122b",
   "metadata": {},
   "source": [
    "# Hypothesis Testing\n",
    "\n",
    "It is a type of statistical inference process that allows us to test the validity of our hypothesis about a parameter value. "
   ]
  },
  {
   "cell_type": "markdown",
   "id": "54f5488a-4912-42a9-9cd7-52e068356db5",
   "metadata": {},
   "source": [
    "## Thought Experiment\n",
    "\n",
    "We have two bags A and B with different probabilities of drawing Red (1A,0B), Green (2A,3B), Blue (3A,2B), Yellow balls (0A, 1B). We are given a bag and we need to say whether it is A or B.  First, we form the Null Hypothesis ($H_0$) and Alternative Hypothesis ($H_1$). \n",
    "\n",
    "* $H_0$: We have bag A\n",
    "* $H_1$: We have bag B\n",
    "\n",
    "Now, we can need to look at data (drawing balls) to determine whether $H_0$ holds or we can reject it. We can make two kinds of errors here: \n",
    "\n",
    "1. Type 1 Error: Null is true but we reject null\n",
    "2. Type 2 Error: Null is false but we fail to reject null."
   ]
  },
  {
   "cell_type": "markdown",
   "id": "b10c9961-61a1-43ad-b3d9-97e2d244c105",
   "metadata": {},
   "source": [
    "# Research Design"
   ]
  }
 ],
 "metadata": {
  "kernelspec": {
   "display_name": "statsenv",
   "language": "python",
   "name": "statsenv"
  },
  "language_info": {
   "codemirror_mode": {
    "name": "ipython",
    "version": 3
   },
   "file_extension": ".py",
   "mimetype": "text/x-python",
   "name": "python",
   "nbconvert_exporter": "python",
   "pygments_lexer": "ipython3",
   "version": "3.13.7"
  }
 },
 "nbformat": 4,
 "nbformat_minor": 5
}
