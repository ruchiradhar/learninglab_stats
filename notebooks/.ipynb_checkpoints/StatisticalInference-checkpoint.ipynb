{
 "cells": [
  {
   "cell_type": "markdown",
   "id": "fe2fa954-57b3-4975-a240-473ce759dc32",
   "metadata": {},
   "source": [
    "# What is Statistical Inference? \n",
    "\n",
    "In statistical inference, what we typically do is make guesses about a parameter.  There are typically two kinds of things we try to guess at: \n",
    "\n",
    "* How confident are we about the value of a parameter? (Confidence Estimation)\n",
    "* How valid is our hypothesis about the parameter? (Hypothesis Testing)"
   ]
  },
  {
   "cell_type": "markdown",
   "id": "f9a8cc07-499b-4b8a-a584-ff110451f95f",
   "metadata": {},
   "source": [
    "## Statistical Notation\n",
    "\n",
    "For Quantitative Variables: \n",
    "\n",
    "* Population Mean: $\\mu$\n",
    "* Sample Mean: $\\hat{\\mu}$ or $\\bar{x}$\n",
    "* Population Standard Deviation: $\\sigma$\n",
    "* Sample Standard Deviation: $\\hat{\\sigma}$\n",
    "\n",
    "For Categorical Variables: \n",
    "\n",
    "* Population Proportion: $p$\n",
    "* Sample Proportion: $\\hat{p}$\n",
    "\n",
    "For Margin of Error: \n",
    "\n",
    "* 95% Multiplier for Standard Samples: $z*$\n",
    "* 95% Multiplier for Small Samples: $t*$ (derived from t-distribution)\n",
    "\n",
    "For Normal Distribution Curves: \n",
    "\n",
    "* Normal Distribution with given mean and standard deviation: $N(\\mu, \\sigma)$"
   ]
  },
  {
   "cell_type": "markdown",
   "id": "d674551c-595e-4a81-97e0-7c30258a4208",
   "metadata": {},
   "source": [
    "## Python Basics\n",
    "\n",
    "Most statistical inference is done using the following libraries: \n",
    "\n",
    "* Numpy: It is used to work with uniform arrays of values that are used to represent data.\n",
    "* Pandas: It is used to store, manipulate, and analyze data.\n",
    "* Matplotlib: It is used  to visualize data.\n",
    "* Seaborn: It is used as a high level interface to Matplotlib.\n",
    "* Scipy: It is used to work with probability functions from statistical distributions\n",
    "* Statsmodel: It is used to do data exploration, statistical testing, and statistical modelling"
   ]
  },
  {
   "cell_type": "code",
   "execution_count": 10,
   "id": "ef3807b9-6e6f-4022-ba0e-299ce6379854",
   "metadata": {},
   "outputs": [],
   "source": [
    "# import the important libraries\n",
    "import numpy as np\n",
    "import pandas as pd\n",
    "import matplotlib.pyplot as plt\n",
    "import seaborn as sns\n",
    "from scipy import stats\n",
    "import statsmodels as sm"
   ]
  },
  {
   "cell_type": "code",
   "execution_count": 28,
   "id": "96c62ebb-b94d-47ad-8291-c1de2969aa01",
   "metadata": {},
   "outputs": [
    {
     "name": "stdout",
     "output_type": "stream",
     "text": [
      "x is  [-1.0856306   0.99734545  0.2829785  -1.50629471 -0.57860025]\n",
      "log of x is  [1.17859381 0.99469794 0.08007683 2.26892377 0.33477825]\n",
      "y is  [1.  1.6 2.2 2.8 3.4 4. ]\n",
      "z is  [1.  1.5 2.  2.5 3.  3.5]\n",
      "addition of y and z is  [2.  3.1 4.2 5.3 6.4 7.5]\n"
     ]
    }
   ],
   "source": [
    "# numpy\n",
    "np.random.seed(123) # ensure reproducibility in random generator\n",
    "x= np.random.normal(size=5) # generate array of len 5 with random numbers from normal distribution\n",
    "print(\"x is \",x)\n",
    "logx= np.square(x)\n",
    "print(\"log of x is \",logx)\n",
    "y= np.linspace (1, 4, 6) # generate 5 numbers between 1 and 4 of len\n",
    "print(\"y is \",y)\n",
    "z=np.arange(1,4,0.5) # generate numbers between 1 and 5 with a gap of 0.5\n",
    "print(\"z is \",z)\n",
    "addyz= y+z\n",
    "print(\"addition of y and z is \",addyz)\n",
    "#help(np.sort)"
   ]
  },
  {
   "cell_type": "code",
   "execution_count": 29,
   "id": "9d9c0abe-75c0-48bc-9f0d-7f76da250eca",
   "metadata": {},
   "outputs": [
    {
     "name": "stdout",
     "output_type": "stream",
     "text": [
      "   ID  Age Gender  GenderGroup Glasses  GlassesGroup  Height  Wingspan  \\\n",
      "0   1   56      F            1       Y             1    62.0      61.0   \n",
      "1   2   26      F            1       Y             1    62.0      60.0   \n",
      "2   3   33      F            1       Y             1    66.0      64.0   \n",
      "3   4   39      F            1       N             0    64.0      63.0   \n",
      "4   5   27      M            2       N             0    73.0      75.0   \n",
      "\n",
      "   CWDistance Complete  CompleteGroup  Score  \n",
      "0          79        Y              1      7  \n",
      "1          70        Y              1      8  \n",
      "2          85        Y              1      7  \n",
      "3          87        Y              1     10  \n",
      "4          72        N              0      4  \n",
      "Index(['ID', 'Age', 'Gender', 'GenderGroup', 'Glasses', 'GlassesGroup',\n",
      "       'Height', 'Wingspan', 'CWDistance', 'Complete', 'CompleteGroup',\n",
      "       'Score'],\n",
      "      dtype='object')\n",
      "['F' 'M']\n",
      "   ID  Age Gender\n",
      "0   1   56      F\n",
      "1   2   26      F\n",
      "2   3   33      F\n"
     ]
    }
   ],
   "source": [
    "# pandas\n",
    "df=pd.read_csv(\"CartwheelData.csv\")\n",
    "print(df.head())\n",
    "print(df.columns)\n",
    "print(df[\"Gender\"].unique())\n",
    "print(df.iloc[0:3, 0:3])\n",
    "#help(pd.DataFrame.drop)"
   ]
  },
  {
   "cell_type": "code",
   "execution_count": 21,
   "id": "58eaa304-d8f8-452a-834f-bf32f89f60d2",
   "metadata": {},
   "outputs": [
    {
     "data": {
      "text/plain": [
       "Text(0.5, 1.0, 'Histogram of Cartwheel Distances')"
      ]
     },
     "execution_count": 21,
     "metadata": {},
     "output_type": "execute_result"
    },
    {
     "data": {
      "image/png": "[encoded data removed]",
      "text/plain": [
       "<Figure size 640x480 with 1 Axes>"
      ]
     },
     "metadata": {},
     "output_type": "display_data"
    }
   ],
   "source": [
    "# matplotlib\n",
    "plt.hist(df[\"CWDistance\"], bins=10,edgecolor=\"black\")\n",
    "plt.xlabel(\"Distances\")\n",
    "plt.ylabel(\"Frequencies\")\n",
    "plt.title(\"Histogram of Cartwheel Distances\")"
   ]
  },
  {
   "cell_type": "code",
   "execution_count": 22,
   "id": "19a04084-0b1a-4dc0-a683-b1d4d8d1aacf",
   "metadata": {},
   "outputs": [
    {
     "data": {
      "text/plain": [
       "<seaborn.axisgrid.FacetGrid at 0x320366120>"
      ]
     },
     "execution_count": 22,
     "metadata": {},
     "output_type": "execute_result"
    },
    {
     "data": {
      "image/png": "[encoded data removed]",
      "text/plain": [
       "<Figure size 500x500 with 1 Axes>"
      ]
     },
     "metadata": {},
     "output_type": "display_data"
    }
   ],
   "source": [
    "# seaborn\n",
    "x= sns.displot(df[\"CWDistance\"],kde=False, bins=10)\n",
    "x.fig.suptitle(\"Histogram of Cartwheel Distances\")\n",
    "x"
   ]
  },
  {
   "cell_type": "code",
   "execution_count": 23,
   "id": "c7d776e4-be66-40df-b489-d82030c61aac",
   "metadata": {},
   "outputs": [
    {
     "name": "stdout",
     "output_type": "stream",
     "text": [
      "0.11718750000000004\n"
     ]
    }
   ],
   "source": [
    "# scipy\n",
    "# probability mass function of binomial distribution\n",
    "# probability of getting exactly 3 heads in 10 flips of a fair coin\n",
    "print(stats.binom(10, 0.5).pmf(3))"
   ]
  },
  {
   "cell_type": "code",
   "execution_count": 25,
   "id": "a37b2301-c7dc-420a-9dbc-4b6e7b2a4a2a",
   "metadata": {},
   "outputs": [
    {
     "name": "stdout",
     "output_type": "stream",
     "text": [
      "    dept Region    Department  Crime_pers  Crime_prop  Literacy  Donations  \\\n",
      "0      1      E           Ain       28870       15890        37       5098   \n",
      "1      2      N         Aisne       26226        5521        51       8901   \n",
      "2      3      C        Allier       26747        7925        13      10973   \n",
      "3      4      E  Basses-Alpes       12935        7289        46       2733   \n",
      "4      5      E  Hautes-Alpes       17488        8174        69       6962   \n",
      "..   ...    ...           ...         ...         ...       ...        ...   \n",
      "81    86      W        Vienne       15010        4710        25       8922   \n",
      "82    87      C  Haute-Vienne       16256        6402        13      13817   \n",
      "83    88      E        Vosges       18835        9044        62       4040   \n",
      "84    89      C         Yonne       18006        6516        47       4276   \n",
      "85   200    NaN         Corse        2199        4589        49      37015   \n",
      "\n",
      "    Infants  Suicides MainCity  ...  Crime_parents  Infanticide  \\\n",
      "0     33120     35039    2:Med  ...             71           60   \n",
      "1     14572     12831    2:Med  ...              4           82   \n",
      "2     17044    114121    2:Med  ...             46           42   \n",
      "3     23018     14238     1:Sm  ...             70           12   \n",
      "4     23076     16171     1:Sm  ...             22           23   \n",
      "..      ...       ...      ...  ...            ...          ...   \n",
      "81    35224     21851    2:Med  ...             20            1   \n",
      "82    19940     33497    2:Med  ...             68            6   \n",
      "83    14978     33029    2:Med  ...             58           34   \n",
      "84    16616     12789    2:Med  ...             32           22   \n",
      "85    24743     37016    2:Med  ...             81            2   \n",
      "\n",
      "    Donation_clergy  Lottery  Desertion  Instruction  Prostitutes  Distance  \\\n",
      "0                69       41         55           46           13   218.372   \n",
      "1                36       38         82           24          327    65.945   \n",
      "2                76       66         16           85           34   161.927   \n",
      "3                37       80         32           29            2   351.399   \n",
      "4                64       79         35            7            1   320.280   \n",
      "..              ...      ...        ...          ...          ...       ...   \n",
      "81               44       40         38           65           18   170.523   \n",
      "82               78       55         11           84            7   198.874   \n",
      "83                5       14         85           11           43   174.477   \n",
      "84               35       51         66           27          272    81.797   \n",
      "85               84       83          9           25            1   539.213   \n",
      "\n",
      "    Area  Pop1831  \n",
      "0   5762   346.03  \n",
      "1   7369   513.00  \n",
      "2   7340   298.26  \n",
      "3   6925   155.90  \n",
      "4   5549   129.10  \n",
      "..   ...      ...  \n",
      "81  6990   282.73  \n",
      "82  5520   285.13  \n",
      "83  5874   397.99  \n",
      "84  7427   352.49  \n",
      "85  8680   195.41  \n",
      "\n",
      "[86 rows x 23 columns]\n",
      "                            OLS Regression Results                            \n",
      "==============================================================================\n",
      "Dep. Variable:                Lottery   R-squared:                       0.348\n",
      "Model:                            OLS   Adj. R-squared:                  0.333\n",
      "Method:                 Least Squares   F-statistic:                     22.20\n",
      "Date:                Sat, 27 Sep 2025   Prob (F-statistic):           1.90e-08\n",
      "Time:                        22:14:13   Log-Likelihood:                -379.82\n",
      "No. Observations:                  86   AIC:                             765.6\n",
      "Df Residuals:                      83   BIC:                             773.0\n",
      "Df Model:                           2                                         \n",
      "Covariance Type:            nonrobust                                         \n",
      "===================================================================================\n",
      "                      coef    std err          t      P>|t|      [0.025      0.975]\n",
      "-----------------------------------------------------------------------------------\n",
      "Intercept         246.4341     35.233      6.995      0.000     176.358     316.510\n",
      "Literacy           -0.4889      0.128     -3.832      0.000      -0.743      -0.235\n",
      "np.log(Pop1831)   -31.3114      5.977     -5.239      0.000     -43.199     -19.424\n",
      "==============================================================================\n",
      "Omnibus:                        3.713   Durbin-Watson:                   2.019\n",
      "Prob(Omnibus):                  0.156   Jarque-Bera (JB):                3.394\n",
      "Skew:                          -0.487   Prob(JB):                        0.183\n",
      "Kurtosis:                       3.003   Cond. No.                         702.\n",
      "==============================================================================\n",
      "\n",
      "Notes:\n",
      "[1] Standard Errors assume that the covariance matrix of the errors is correctly specified.\n"
     ]
    }
   ],
   "source": [
    "# statsmodels\n",
    "import statsmodels.api as sma\n",
    "import statsmodels.formula.api as smf\n",
    "# load data\n",
    "data = sma.datasets.get_rdataset(\"Guerry\", \"HistData\").data\n",
    "print(data)\n",
    "# fit regression models Ordinary Least Square (OLS)\n",
    "results = smf.ols('Lottery ~ Literacy + np.log(Pop1831)', data=data).fit()\n",
    "print(results.summary())"
   ]
  },
  {
   "cell_type": "markdown",
   "id": "0dbc79c4-fd57-401c-8460-58538c484478",
   "metadata": {},
   "source": [
    "# Confidence Estimation\n",
    "\n",
    "It is a type of statistical inference process that allows us to estimate confidence in the estimated parameter value. The process for confidence estimation is: \n",
    "\n",
    "1. From an unbiased sample, compute the point estimate of the parameter (the value that the hypothetical sampling distribution will center on).\n",
    "2. From the sample, compute the estimate of variance (the variance of the hypothetical sampling distribution).The square root is the estimated standard error.\n",
    "3. Form a confidence interval (CI) as *Estimate $\\pm$ Margin of Error* where *Estimate* is the unbiased point estimate and *Margin of Error* is a few estimated Standard Errors (where few depends on desired confidence level and sample design).\n",
    "\n",
    "For example: To calculate proportion confidence interval with estimated proportion $\\hat{p}$, \n",
    "\n",
    "$$ CI= \\hat{p} \\pm z*\\sqrt{\\frac{\\hat{p}(1-\\hat{p})}{n}}$$\n",
    "\n",
    "To calculate with conservative estimate we replace $\\hat{p}$ with 0.5 to get, \n",
    "\n",
    "$$ CI= \\hat{p} \\pm z*\\sqrt{\\frac{1}{2\\sqrt(n)}}$$\n",
    "\n",
    "Use the Empirical Rule to determine the $z*$ multiplier: \n",
    "\n",
    "1. If we want to build 99.7% CI, use 3.00 Estimated Standard Errors\n",
    "2. If we want to build 99% CI, use 2.57 Estimated Standard Errors\n",
    "3. If we want to build 98% CI, use 2.32 Estimated Standard Errors\n",
    "4. If we want to build 95% CI, use 1.96 Estimated Standard Errors\n",
    "5. If we want to build 90% CI, use 1.64 Estimated Standard Errors\n",
    "6. If we want to build 68% CI, use 1.00 Estimated Standard Errors\n",
    "\n",
    "Use the CI to form interpretations: \n",
    "\n",
    "1. Our best estimate of the parameter value is the center of the confidence interval.\n",
    "2. We are 95% sure that the parameter value lies within this interval.\n",
    "3. Our parameter value will be within this interval for 95% of intervals we calculate with this sampling process.\n",
    "\n",
    "Note: It does not say there is a 95% probability that parameter value is in the confidence interval. The proability is 1 or 0 (we just don't know). All we say is we have 95% confidence in our statistical inference procedure. "
   ]
  },
  {
   "cell_type": "markdown",
   "id": "6c64a727-c071-4e84-bed4-da9ff2607a84",
   "metadata": {},
   "source": [
    "##  Process Assumptions\n",
    "\n",
    "The process of CI estimation makes two core assumptions: \n",
    "\n",
    "1. Simple Random Sample: Our sample is a simple random sample where every unit has equal probability of selection. This makes the Central Limit Theorem applicable. \n",
    "2. Large Enough Sample Size: Our samples contains atleast 10 of all possible response outcomes. This makes the sampling distribution close to normal and ensures the Empirical Rule can apply. "
   ]
  },
  {
   "cell_type": "markdown",
   "id": "032fe38d-49de-4e99-bafe-2875ae76d483",
   "metadata": {},
   "source": [
    "## Sample Size Estimation\n",
    "\n",
    "Using the formula for CI, we can estimate the sample size if we know the margin of error we want. \n",
    "\n",
    "$$n= \\frac{z* p(1-p)}{(MoE)^2}$$"
   ]
  },
  {
   "cell_type": "markdown",
   "id": "dc6e5786-a0b7-4076-8083-3e96aac3122b",
   "metadata": {},
   "source": [
    "# Hypothesis Testing\n",
    "\n",
    "It is a type of statistical inference process that allows us to test the validity of our hypothesis about a parameter value. "
   ]
  },
  {
   "cell_type": "markdown",
   "id": "54f5488a-4912-42a9-9cd7-52e068356db5",
   "metadata": {},
   "source": [
    "## Thought Experiment\n",
    "\n",
    "We have two bags A and B with different probabilities of drawing Red (1A,0B), Green (2A,3B), Blue (3A,2B), Yellow balls (0A, 1B). We are given a bag and we need to say whether it is A or B.  First, we form the Null Hypothesis ($H_0$) and Alternative Hypothesis ($H_1$). \n",
    "\n",
    "* $H_0$: We have bag A\n",
    "* $H_1$: We have bag B\n",
    "\n",
    "Now, we can need to look at data (drawing balls) to determine whether $H_0$ holds or we can reject it. We can make two kinds of errors here: \n",
    "\n",
    "1. Type 1 Error: Null is true but we reject null\n",
    "2. Type 2 Error: Null is false but we fail to reject null."
   ]
  },
  {
   "cell_type": "markdown",
   "id": "b10c9961-61a1-43ad-b3d9-97e2d244c105",
   "metadata": {},
   "source": [
    "# Research Design"
   ]
  }
 ],
 "metadata": {
  "kernelspec": {
   "display_name": "statsenv",
   "language": "python",
   "name": "statsenv"
  },
  "language_info": {
   "codemirror_mode": {
    "name": "ipython",
    "version": 3
   },
   "file_extension": ".py",
   "mimetype": "text/x-python",
   "name": "python",
   "nbconvert_exporter": "python",
   "pygments_lexer": "ipython3",
   "version": "3.13.7"
  }
 },
 "nbformat": 4,
 "nbformat_minor": 5
}
